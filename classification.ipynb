{
  "cells": [
    {
      "cell_type": "code",
      "execution_count": null,
      "metadata": {
        "colab": {
          "base_uri": "https://localhost:8080/"
        },
        "id": "XJiUkMo5X79b",
        "outputId": "8e535a6a-4890-4f1c-916b-da8f9160aefe"
      },
      "outputs": [
        {
          "name": "stdout",
          "output_type": "stream",
          "text": [
            "Looking in indexes: https://pypi.org/simple, https://us-python.pkg.dev/colab-wheels/public/simple/\n",
            "Collecting pyspark\n",
            "  Downloading pyspark-3.3.1.tar.gz (281.4 MB)\n",
            "\u001b[K     |████████████████████████████████| 281.4 MB 47 kB/s \n",
            "\u001b[?25hCollecting py4j==0.10.9.5\n",
            "  Downloading py4j-0.10.9.5-py2.py3-none-any.whl (199 kB)\n",
            "\u001b[K     |████████████████████████████████| 199 kB 52.4 MB/s \n",
            "\u001b[?25hBuilding wheels for collected packages: pyspark\n",
            "  Building wheel for pyspark (setup.py) ... \u001b[?25l\u001b[?25hdone\n",
            "  Created wheel for pyspark: filename=pyspark-3.3.1-py2.py3-none-any.whl size=281845512 sha256=ee9c412588eeae379fae1196290379bd04dae092481c3eaa9497ceae532c2b77\n",
            "  Stored in directory: /root/.cache/pip/wheels/43/dc/11/ec201cd671da62fa9c5cc77078235e40722170ceba231d7598\n",
            "Successfully built pyspark\n",
            "Installing collected packages: py4j, pyspark\n",
            "Successfully installed py4j-0.10.9.5 pyspark-3.3.1\n"
          ]
        }
      ],
      "source": [
        "!pip install pyspark\n",
        "from pyspark.sql import *\n",
        "\n",
        "spark= SparkSession.builder\\\n",
        ".master(\"local\")\\\n",
        ".appName(\"Colab\")\\\n",
        ".config('spark.ui.port', '4050')\\\n",
        ".getOrCreate()"
      ]
    },
    {
      "cell_type": "code",
      "execution_count": null,
      "metadata": {
        "colab": {
          "base_uri": "https://localhost:8080/"
        },
        "id": "tV8syiNnYCzA",
        "outputId": "47e6cf46-6ff6-4adf-e358-885a4814d73a"
      },
      "outputs": [
        {
          "name": "stdout",
          "output_type": "stream",
          "text": [
            "Looking in indexes: https://pypi.org/simple, https://us-python.pkg.dev/colab-wheels/public/simple/\n",
            "Collecting opendatasets\n",
            "  Downloading opendatasets-0.1.22-py3-none-any.whl (15 kB)\n",
            "Requirement already satisfied: tqdm in /usr/local/lib/python3.8/dist-packages (from opendatasets) (4.64.1)\n",
            "Requirement already satisfied: kaggle in /usr/local/lib/python3.8/dist-packages (from opendatasets) (1.5.12)\n",
            "Requirement already satisfied: click in /usr/local/lib/python3.8/dist-packages (from opendatasets) (7.1.2)\n",
            "Requirement already satisfied: python-slugify in /usr/local/lib/python3.8/dist-packages (from kaggle->opendatasets) (7.0.0)\n",
            "Requirement already satisfied: certifi in /usr/local/lib/python3.8/dist-packages (from kaggle->opendatasets) (2022.12.7)\n",
            "Requirement already satisfied: six>=1.10 in /usr/local/lib/python3.8/dist-packages (from kaggle->opendatasets) (1.15.0)\n",
            "Requirement already satisfied: requests in /usr/local/lib/python3.8/dist-packages (from kaggle->opendatasets) (2.23.0)\n",
            "Requirement already satisfied: python-dateutil in /usr/local/lib/python3.8/dist-packages (from kaggle->opendatasets) (2.8.2)\n",
            "Requirement already satisfied: urllib3 in /usr/local/lib/python3.8/dist-packages (from kaggle->opendatasets) (1.24.3)\n",
            "Requirement already satisfied: text-unidecode>=1.3 in /usr/local/lib/python3.8/dist-packages (from python-slugify->kaggle->opendatasets) (1.3)\n",
            "Requirement already satisfied: chardet<4,>=3.0.2 in /usr/local/lib/python3.8/dist-packages (from requests->kaggle->opendatasets) (3.0.4)\n",
            "Requirement already satisfied: idna<3,>=2.5 in /usr/local/lib/python3.8/dist-packages (from requests->kaggle->opendatasets) (2.10)\n",
            "Installing collected packages: opendatasets\n",
            "Successfully installed opendatasets-0.1.22\n"
          ]
        }
      ],
      "source": [
        "pip install opendatasets"
      ]
    },
    {
      "cell_type": "code",
      "execution_count": null,
      "metadata": {
        "colab": {
          "base_uri": "https://localhost:8080/"
        },
        "id": "9pv24x4hYEZX",
        "outputId": "31e27ed5-0607-4f1c-89d5-13c1564ed6c5"
      },
      "outputs": [
        {
          "name": "stdout",
          "output_type": "stream",
          "text": [
            "Looking in indexes: https://pypi.org/simple, https://us-python.pkg.dev/colab-wheels/public/simple/\n",
            "Requirement already satisfied: pandas in /usr/local/lib/python3.8/dist-packages (1.3.5)\n",
            "Requirement already satisfied: pytz>=2017.3 in /usr/local/lib/python3.8/dist-packages (from pandas) (2022.6)\n",
            "Requirement already satisfied: numpy>=1.17.3 in /usr/local/lib/python3.8/dist-packages (from pandas) (1.21.6)\n",
            "Requirement already satisfied: python-dateutil>=2.7.3 in /usr/local/lib/python3.8/dist-packages (from pandas) (2.8.2)\n",
            "Requirement already satisfied: six>=1.5 in /usr/local/lib/python3.8/dist-packages (from python-dateutil>=2.7.3->pandas) (1.15.0)\n"
          ]
        }
      ],
      "source": [
        "pip install pandas"
      ]
    },
    {
      "cell_type": "code",
      "execution_count": null,
      "metadata": {
        "colab": {
          "base_uri": "https://localhost:8080/"
        },
        "id": "Zwg04f-xYEzl",
        "outputId": "d9533d64-4daa-4c59-fecf-80c673b3aeaf"
      },
      "outputs": [
        {
          "name": "stderr",
          "output_type": "stream",
          "text": [
            "WARNING:root:'PYARROW_IGNORE_TIMEZONE' environment variable was not set. It is required to set this environment variable to '1' in both driver and executor sides if you use pyarrow>=2.0.0. pandas-on-Spark will set it for you but it does not work if there is a Spark context already launched.\n"
          ]
        }
      ],
      "source": [
        "from pyspark.sql.types import IntegerType\n",
        "from pyspark.sql.functions import col\n",
        "from sklearn.cluster import KMeans\n",
        "import pandas as pd\n",
        "from sklearn.preprocessing import MinMaxScaler\n",
        "from matplotlib import pyplot as plt\n",
        "%matplotlib inline\n",
        "from  pyspark import pandas"
      ]
    },
    {
      "cell_type": "code",
      "execution_count": null,
      "metadata": {
        "colab": {
          "background_save": true,
          "base_uri": "https://localhost:8080/"
        },
        "id": "-UFD3i5qYFLV",
        "outputId": "ebcf488b-19ea-484c-a512-0475888250b2"
      },
      "outputs": [
        {
          "name": "stdout",
          "output_type": "stream",
          "text": [
            "Please provide your Kaggle credentials to download this dataset. Learn more: http://bit.ly/kaggle-creds\n",
            "Your Kaggle username: Your Kaggle Key: Downloading 2019-airline-delays-and-cancellations.zip to ./2019-airline-delays-and-cancellations\n"
          ]
        },
        {
          "name": "stderr",
          "output_type": "stream",
          "text": [
            "100%|██████████| 754M/754M [00:05<00:00, 132MB/s]\n"
          ]
        },
        {
          "name": "stdout",
          "output_type": "stream",
          "text": [
            "\n"
          ]
        }
      ],
      "source": [
        "import pandas as pd\n",
        "import opendatasets as od\n",
        "od.download(\n",
        "    \"https://www.kaggle.com/datasets/threnjen/2019-airline-delays-and-cancellations?select=full_data_flightdelay.csv\")\n",
        "##  alialnujaidi\n",
        "\n",
        "##  3b1e0a628c830e978368ab04b89840b1"
      ]
    },
    {
      "cell_type": "code",
      "execution_count": null,
      "metadata": {
        "colab": {
          "background_save": true
        },
        "id": "F39ufecpYFej"
      },
      "outputs": [],
      "source": [
        "df = spark.read.option(\"header\",True) \\\n",
        "     .csv(\"2019-airline-delays-and-cancellations/full_data_flightdelay.csv\")"
      ]
    },
    {
      "cell_type": "code",
      "execution_count": null,
      "metadata": {
        "colab": {
          "background_save": true
        },
        "id": "Sonx_QXaYbgr",
        "outputId": "cfe069dd-dccb-48c5-d738-97d35da53724"
      },
      "outputs": [
        {
          "name": "stdout",
          "output_type": "stream",
          "text": [
            "+-----+-----------+---------+------------+--------------+--------------+------------------+---------------+--------------------+---------------------+---------------------+-----------------------------+------------------------+------------------------+-----------------------+--------------------+---------+--------------------+--------+---------+----------------+----+----+----+----+----+\n",
            "|MONTH|DAY_OF_WEEK|DEP_DEL15|DEP_TIME_BLK|DISTANCE_GROUP|SEGMENT_NUMBER|CONCURRENT_FLIGHTS|NUMBER_OF_SEATS|        CARRIER_NAME|AIRPORT_FLIGHTS_MONTH|AIRLINE_FLIGHTS_MONTH|AIRLINE_AIRPORT_FLIGHTS_MONTH|AVG_MONTHLY_PASS_AIRPORT|AVG_MONTHLY_PASS_AIRLINE|FLT_ATTENDANTS_PER_PASS|GROUND_SERV_PER_PASS|PLANE_AGE|   DEPARTING_AIRPORT|LATITUDE|LONGITUDE|PREVIOUS_AIRPORT|PRCP|SNOW|SNWD|TMAX|AWND|\n",
            "+-----+-----------+---------+------------+--------------+--------------+------------------+---------------+--------------------+---------------------+---------------------+-----------------------------+------------------------+------------------------+-----------------------+--------------------+---------+--------------------+--------+---------+----------------+----+----+----+----+----+\n",
            "|    1|          7|        0|   0800-0859|             2|             1|                25|            143|Southwest Airline...|                13056|               107363|                         5873|                 1903352|                13382999|   6.178236301460919...|9.889412309998219...|        8|McCarran Internat...|   36.08| -115.152|            NONE| 0.0| 0.0| 0.0|65.0|2.91|\n",
            "|    1|          7|        0|   0700-0759|             7|             1|                29|            191|Delta Air Lines Inc.|                13056|                73508|                         1174|                 1903352|                12460183|   0.000144165884987...|0.000148660200942...|        3|McCarran Internat...|   36.08| -115.152|            NONE| 0.0| 0.0| 0.0|65.0|2.91|\n",
            "|    1|          7|        0|   0600-0659|             7|             1|                27|            199|Delta Air Lines Inc.|                13056|                73508|                         1174|                 1903352|                12460183|   0.000144165884987...|0.000148660200942...|       18|McCarran Internat...|   36.08| -115.152|            NONE| 0.0| 0.0| 0.0|65.0|2.91|\n",
            "|    1|          7|        0|   0600-0659|             9|             1|                27|            180|Delta Air Lines Inc.|                13056|                73508|                         1174|                 1903352|                12460183|   0.000144165884987...|0.000148660200942...|        2|McCarran Internat...|   36.08| -115.152|            NONE| 0.0| 0.0| 0.0|65.0|2.91|\n",
            "|    1|          7|        0|   0001-0559|             7|             1|                10|            182|    Spirit Air Lines|                13056|                15023|                         1257|                 1903352|                 2688839|   9.173723925704242...|0.000124651073071...|        1|McCarran Internat...|   36.08| -115.152|            NONE| 0.0| 0.0| 0.0|65.0|2.91|\n",
            "|    1|          7|        0|   0001-0559|             3|             1|                10|            180|Frontier Airlines...|                13056|                 9496|                          581|                 1903352|                 1857122|   0.000115725648276...|7.134694872433899...|        5|McCarran Internat...|   36.08| -115.152|            NONE| 0.0| 0.0| 0.0|65.0|2.91|\n",
            "|    1|          7|        0|   0700-0759|             6|             1|                29|            186|Frontier Airlines...|                13056|                 9496|                          581|                 1903352|                 1857122|   0.000115725648276...|7.134694872433899...|        2|McCarran Internat...|   36.08| -115.152|            NONE| 0.0| 0.0| 0.0|65.0|2.91|\n",
            "|    1|          7|        1|   0001-0559|             7|             1|                10|            186|Frontier Airlines...|                13056|                 9496|                          581|                 1903352|                 1857122|   0.000115725648276...|7.134694872433899...|        3|McCarran Internat...|   36.08| -115.152|            NONE| 0.0| 0.0| 0.0|65.0|2.91|\n",
            "|    1|          7|        0|   0001-0559|             7|             1|                10|            180|Frontier Airlines...|                13056|                 9496|                          581|                 1903352|                 1857122|   0.000115725648276...|7.134694872433899...|        3|McCarran Internat...|   36.08| -115.152|            NONE| 0.0| 0.0| 0.0|65.0|2.91|\n",
            "|    1|          7|        0|   0600-0659|             8|             1|                27|            186|Frontier Airlines...|                13056|                 9496|                          581|                 1903352|                 1857122|   0.000115725648276...|7.134694872433899...|        1|McCarran Internat...|   36.08| -115.152|            NONE| 0.0| 0.0| 0.0|65.0|2.91|\n",
            "|    1|          7|        1|   2300-2359|             6|             1|                17|            180|Frontier Airlines...|                13056|                 9496|                          581|                 1903352|                 1857122|   0.000115725648276...|7.134694872433899...|        3|McCarran Internat...|   36.08| -115.152|            NONE| 0.0| 0.0| 0.0|65.0|2.91|\n",
            "|    1|          7|        0|   0600-0659|             1|             1|                27|            149|Alaska Airlines Inc.|                13056|                20315|                          717|                 1903352|                 2884187|   3.233146156611231...|0.000174601449726...|        3|McCarran Internat...|   36.08| -115.152|            NONE| 0.0| 0.0| 0.0|65.0|2.91|\n",
            "|    1|          7|        0|   1200-1259|             1|             1|                26|            119|Alaska Airlines Inc.|                13056|                20315|                          717|                 1903352|                 2884187|   3.233146156611231...|0.000174601449726...|       12|McCarran Internat...|   36.08| -115.152|            NONE| 0.0| 0.0| 0.0|65.0|2.91|\n",
            "|    1|          7|        0|   0600-0659|             2|             1|                27|            146|Alaska Airlines Inc.|                13056|                20315|                          717|                 1903352|                 2884187|   3.233146156611231...|0.000174601449726...|        7|McCarran Internat...|   36.08| -115.152|            NONE| 0.0| 0.0| 0.0|65.0|2.91|\n",
            "|    1|          7|        0|   0600-0659|             4|             1|                27|            181|Alaska Airlines Inc.|                13056|                20315|                          717|                 1903352|                 2884187|   3.233146156611231...|0.000174601449726...|        2|McCarran Internat...|   36.08| -115.152|            NONE| 0.0| 0.0| 0.0|65.0|2.91|\n",
            "|    1|          7|        1|   0700-0759|             4|             1|                29|            181|Alaska Airlines Inc.|                13056|                20315|                          717|                 1903352|                 2884187|   3.233146156611231...|0.000174601449726...|        4|McCarran Internat...|   36.08| -115.152|            NONE| 0.0| 0.0| 0.0|65.0|2.91|\n",
            "|    1|          7|        0|   0800-0859|             4|             1|                25|            181|Alaska Airlines Inc.|                13056|                20315|                          717|                 1903352|                 2884187|   3.233146156611231...|0.000174601449726...|        4|McCarran Internat...|   36.08| -115.152|            NONE| 0.0| 0.0| 0.0|65.0|2.91|\n",
            "|    1|          7|        0|   0001-0559|            11|             1|                10|            294|Hawaiian Airlines...|                13056|                 6791|                           80|                 1903352|                  905990|   0.000120494217611...|0.000197849665711...|        6|McCarran Internat...|   36.08| -115.152|            NONE| 0.0| 0.0| 0.0|65.0|2.91|\n",
            "|    1|          7|        0|   0900-0959|            11|             1|                28|            294|Hawaiian Airlines...|                13056|                 6791|                           80|                 1903352|                  905990|   0.000120494217611...|0.000197849665711...|        5|McCarran Internat...|   36.08| -115.152|            NONE| 0.0| 0.0| 0.0|65.0|2.91|\n",
            "|    1|          7|        0|   0700-0759|             1|             1|                29|            181|American Airlines...|                13056|                75506|                         1174|                 1903352|                11744595|   9.82082928995461e-05|0.000177287219593...|        5|McCarran Internat...|   36.08| -115.152|            NONE| 0.0| 0.0| 0.0|65.0|2.91|\n",
            "+-----+-----------+---------+------------+--------------+--------------+------------------+---------------+--------------------+---------------------+---------------------+-----------------------------+------------------------+------------------------+-----------------------+--------------------+---------+--------------------+--------+---------+----------------+----+----+----+----+----+\n",
            "only showing top 20 rows\n",
            "\n"
          ]
        }
      ],
      "source": [
        "df.show()"
      ]
    },
    {
      "cell_type": "code",
      "execution_count": null,
      "metadata": {
        "colab": {
          "background_save": true
        },
        "id": "w5E_6r9JmlxC"
      },
      "outputs": [],
      "source": [
        "df = df.select('DISTANCE_GROUP','NUMBER_OF_SEATS','AIRPORT_FLIGHTS_MONTH','GROUND_SERV_PER_PASS','PRCP','SNOW','SNWD','TMAX','AWND','DEP_DEL15')"
      ]
    },
    {
      "cell_type": "code",
      "execution_count": null,
      "metadata": {
        "colab": {
          "background_save": true
        },
        "id": "Wz5HA95SnuGH",
        "outputId": "2889ae71-e11a-4193-d7d9-c7d26e12c720"
      },
      "outputs": [
        {
          "name": "stdout",
          "output_type": "stream",
          "text": [
            "+--------------+---------------+---------------------+--------------------+----+----+----+----+----+---------+\n",
            "|DISTANCE_GROUP|NUMBER_OF_SEATS|AIRPORT_FLIGHTS_MONTH|GROUND_SERV_PER_PASS|PRCP|SNOW|SNWD|TMAX|AWND|DEP_DEL15|\n",
            "+--------------+---------------+---------------------+--------------------+----+----+----+----+----+---------+\n",
            "|             2|            143|                13056|9.889412309998219...| 0.0| 0.0| 0.0|65.0|2.91|        0|\n",
            "|             7|            191|                13056|0.000148660200942...| 0.0| 0.0| 0.0|65.0|2.91|        0|\n",
            "|             7|            199|                13056|0.000148660200942...| 0.0| 0.0| 0.0|65.0|2.91|        0|\n",
            "|             9|            180|                13056|0.000148660200942...| 0.0| 0.0| 0.0|65.0|2.91|        0|\n",
            "|             7|            182|                13056|0.000124651073071...| 0.0| 0.0| 0.0|65.0|2.91|        0|\n",
            "|             3|            180|                13056|7.134694872433899...| 0.0| 0.0| 0.0|65.0|2.91|        0|\n",
            "|             6|            186|                13056|7.134694872433899...| 0.0| 0.0| 0.0|65.0|2.91|        0|\n",
            "|             7|            186|                13056|7.134694872433899...| 0.0| 0.0| 0.0|65.0|2.91|        1|\n",
            "|             7|            180|                13056|7.134694872433899...| 0.0| 0.0| 0.0|65.0|2.91|        0|\n",
            "|             8|            186|                13056|7.134694872433899...| 0.0| 0.0| 0.0|65.0|2.91|        0|\n",
            "|             6|            180|                13056|7.134694872433899...| 0.0| 0.0| 0.0|65.0|2.91|        1|\n",
            "|             1|            149|                13056|0.000174601449726...| 0.0| 0.0| 0.0|65.0|2.91|        0|\n",
            "|             1|            119|                13056|0.000174601449726...| 0.0| 0.0| 0.0|65.0|2.91|        0|\n",
            "|             2|            146|                13056|0.000174601449726...| 0.0| 0.0| 0.0|65.0|2.91|        0|\n",
            "|             4|            181|                13056|0.000174601449726...| 0.0| 0.0| 0.0|65.0|2.91|        0|\n",
            "|             4|            181|                13056|0.000174601449726...| 0.0| 0.0| 0.0|65.0|2.91|        1|\n",
            "|             4|            181|                13056|0.000174601449726...| 0.0| 0.0| 0.0|65.0|2.91|        0|\n",
            "|            11|            294|                13056|0.000197849665711...| 0.0| 0.0| 0.0|65.0|2.91|        0|\n",
            "|            11|            294|                13056|0.000197849665711...| 0.0| 0.0| 0.0|65.0|2.91|        0|\n",
            "|             1|            181|                13056|0.000177287219593...| 0.0| 0.0| 0.0|65.0|2.91|        0|\n",
            "+--------------+---------------+---------------------+--------------------+----+----+----+----+----+---------+\n",
            "only showing top 20 rows\n",
            "\n"
          ]
        }
      ],
      "source": [
        "df.show()"
      ]
    },
    {
      "cell_type": "code",
      "execution_count": null,
      "metadata": {
        "colab": {
          "background_save": true
        },
        "id": "G_3jTcAsocxh",
        "outputId": "f349a7b4-de91-4668-b021-da031aa58e0a"
      },
      "outputs": [
        {
          "name": "stdout",
          "output_type": "stream",
          "text": [
            "root\n",
            " |-- DISTANCE_GROUP: string (nullable = true)\n",
            " |-- NUMBER_OF_SEATS: string (nullable = true)\n",
            " |-- AIRPORT_FLIGHTS_MONTH: string (nullable = true)\n",
            " |-- GROUND_SERV_PER_PASS: string (nullable = true)\n",
            " |-- PRCP: string (nullable = true)\n",
            " |-- SNOW: string (nullable = true)\n",
            " |-- SNWD: string (nullable = true)\n",
            " |-- TMAX: string (nullable = true)\n",
            " |-- AWND: string (nullable = true)\n",
            " |-- DEP_DEL15: string (nullable = true)\n",
            "\n"
          ]
        }
      ],
      "source": [
        "df.printSchema()"
      ]
    },
    {
      "cell_type": "code",
      "execution_count": null,
      "metadata": {
        "colab": {
          "background_save": true
        },
        "id": "Xiyp3IlootWo"
      },
      "outputs": [],
      "source": [
        "from pyspark.ml.feature import StringIndexer"
      ]
    },
    {
      "cell_type": "code",
      "execution_count": null,
      "metadata": {
        "colab": {
          "background_save": true
        },
        "id": "qI_LCfkVpBUZ"
      },
      "outputs": [],
      "source": [
        "indexer = StringIndexer(inputCol=\"DEPARTING_AIRPORT\", outputCol=\"AirportIndex\") \n",
        "indexed = indexer.fit(df).transform(df) "
      ]
    },
    {
      "cell_type": "code",
      "execution_count": null,
      "metadata": {
        "colab": {
          "background_save": true
        },
        "id": "km9mOKrapJHy"
      },
      "outputs": [],
      "source": [
        "df.show()"
      ]
    },
    {
      "cell_type": "code",
      "execution_count": null,
      "metadata": {
        "id": "ZnqyLClup1ug"
      },
      "outputs": [],
      "source": [
        "df = indexed.drop('DEPARTING_AIRPORT')"
      ]
    },
    {
      "cell_type": "code",
      "execution_count": null,
      "metadata": {
        "colab": {
          "background_save": true
        },
        "id": "NYR6E94zqNwn"
      },
      "outputs": [],
      "source": [
        "df = df.withColumn(\"DISTANCE_GROUP\",col(\"DISTANCE_GROUP\").cast(\"double\")).dropna(\"any\")\n",
        "df = df.withColumn(\"NUMBER_OF_SEATS\",col(\"NUMBER_OF_SEATS\").cast(\"double\")).dropna(\"any\")\n",
        "df = df.withColumn(\"AIRPORT_FLIGHTS_MONTH\",col(\"AIRPORT_FLIGHTS_MONTH\").cast(\"double\")).dropna(\"any\")\n",
        "df = df.withColumn(\"GROUND_SERV_PER_PASS\",col(\"GROUND_SERV_PER_PASS\").cast(\"double\")).dropna(\"any\")\n",
        "df = df.withColumn(\"PRCP\",col(\"PRCP\").cast(\"double\")).dropna(\"any\")\n",
        "df = df.withColumn(\"SNOW\",col(\"SNOW\").cast(\"double\")).dropna(\"any\")\n",
        "df = df.withColumn(\"SNWD\",col(\"SNWD\").cast(\"double\")).dropna(\"any\")\n",
        "df = df.withColumn(\"TMAX\",col(\"TMAX\").cast(\"double\")).dropna(\"any\")\n",
        "df = df.withColumn(\"AWND\",col(\"AWND\").cast(\"double\")).dropna(\"any\")\n",
        "df = df.withColumn(\"DEP_DEL15\",col(\"DEP_DEL15\").cast(\"int\")).dropna(\"any\")"
      ]
    },
    {
      "cell_type": "code",
      "execution_count": null,
      "metadata": {
        "colab": {
          "background_save": true
        },
        "id": "Mbp52qNwrYw9"
      },
      "outputs": [],
      "source": [
        "from pyspark.ml.linalg import Vector\n",
        "from pyspark.ml.feature import VectorAssembler\n",
        "input_cols = ['DISTANCE_GROUP','NUMBER_OF_SEATS','AIRPORT_FLIGHTS_MONTH','GROUND_SERV_PER_PASS','PRCP','SNOW','SNWD','TMAX','AWND']\n",
        "assembler = VectorAssembler(inputCols=input_cols, outputCol='features')\n",
        "assembler_temp = assembler.transform(df)"
      ]
    },
    {
      "cell_type": "code",
      "execution_count": null,
      "metadata": {
        "colab": {
          "background_save": true
        },
        "id": "9jcWwTZxr_jP"
      },
      "outputs": [],
      "source": [
        "assembler_temp.show()"
      ]
    },
    {
      "cell_type": "code",
      "execution_count": null,
      "metadata": {
        "colab": {
          "background_save": true
        },
        "id": "CVhW9gkdsOzb"
      },
      "outputs": [],
      "source": [
        "new_df = assembler_temp.drop('DISTANCE_GROUP','NUMBER_OF_SEATS','AIRPORT_FLIGHTS_MONTH','GROUND_SERV_PER_PASS','PRCP','SNOW','SNWD','TMAX','AWND')"
      ]
    },
    {
      "cell_type": "code",
      "execution_count": null,
      "metadata": {
        "colab": {
          "background_save": true
        },
        "id": "EYhyT2ELseOS"
      },
      "outputs": [],
      "source": [
        "new_df.show()"
      ]
    },
    {
      "cell_type": "code",
      "execution_count": null,
      "metadata": {
        "colab": {
          "background_save": true
        },
        "id": "B5k5rSiouYWZ"
      },
      "outputs": [],
      "source": [
        "(trainData, testData) = new_df.randomSplit([0.7, 0.3])"
      ]
    },
    {
      "cell_type": "code",
      "execution_count": null,
      "metadata": {
        "colab": {
          "background_save": true
        },
        "id": "_ium1XHju0f9"
      },
      "outputs": [],
      "source": [
        "from pyspark.ml.classification import RandomForestClassifier\n",
        "from pyspark.ml.evaluation import MulticlassClassificationEvaluator"
      ]
    },
    {
      "cell_type": "code",
      "execution_count": null,
      "metadata": {
        "id": "0_YTElZQyjXx"
      },
      "outputs": [],
      "source": [
        "from pyspark.ml.tuning import CrossValidator, ParamGridBuilder"
      ]
    },
    {
      "cell_type": "code",
      "execution_count": null,
      "metadata": {
        "id": "P305qzKovLOG"
      },
      "outputs": [],
      "source": [
        "dt_model = DecisionTreeClassifier(labelCol=\"DEP_DEL15\", featuresCol=\"features\", maxBins=100)"
      ]
    },
    {
      "cell_type": "code",
      "execution_count": null,
      "metadata": {
        "id": "RznlUKdMvfbh"
      },
      "outputs": [],
      "source": [
        "model = dt_model.fit(trainData)"
      ]
    },
    {
      "cell_type": "code",
      "execution_count": null,
      "metadata": {
        "colab": {
          "base_uri": "https://localhost:8080/"
        },
        "id": "A0ZKNE1tvnJG",
        "outputId": "b46867c9-0e8c-4ccd-d7d4-6281f844d6fc"
      },
      "outputs": [
        {
          "name": "stdout",
          "output_type": "stream",
          "text": [
            "+---------+--------------------+--------------------+--------------------+----------+\n",
            "|DEP_DEL15|            features|       rawPrediction|         probability|prediction|\n",
            "+---------+--------------------+--------------------+--------------------+----------+\n",
            "|        0|(9,[0,1,2,3],[1.0...|[3012934.0,619583.0]|[0.82943424628157...|       0.0|\n",
            "|        0|(9,[0,1,2,3],[1.0...|[3012934.0,619583.0]|[0.82943424628157...|       0.0|\n",
            "|        0|(9,[0,1,2,3],[5.0...|[3012934.0,619583.0]|[0.82943424628157...|       0.0|\n",
            "|        0|(9,[0,1,2,3],[5.0...|[3012934.0,619583.0]|[0.82943424628157...|       0.0|\n",
            "|        0|(9,[0,1,2,3],[5.0...|[3012934.0,619583.0]|[0.82943424628157...|       0.0|\n",
            "|        0|(9,[0,1,2,3],[5.0...|[3012934.0,619583.0]|[0.82943424628157...|       0.0|\n",
            "|        0|(9,[0,1,2,3],[5.0...|[3012934.0,619583.0]|[0.82943424628157...|       0.0|\n",
            "|        0|(9,[0,1,2,3],[5.0...|[3012934.0,619583.0]|[0.82943424628157...|       0.0|\n",
            "|        0|(9,[0,1,2,3],[5.0...|[3012934.0,619583.0]|[0.82943424628157...|       0.0|\n",
            "|        0|(9,[0,1,2,3],[5.0...|[3012934.0,619583.0]|[0.82943424628157...|       0.0|\n",
            "|        0|(9,[0,1,2,3],[5.0...|[3012934.0,619583.0]|[0.82943424628157...|       0.0|\n",
            "|        0|(9,[0,1,2,3],[6.0...|[3012934.0,619583.0]|[0.82943424628157...|       0.0|\n",
            "|        0|(9,[0,1,2,3],[6.0...|[3012934.0,619583.0]|[0.82943424628157...|       0.0|\n",
            "|        0|(9,[0,1,2,3],[7.0...|[3012934.0,619583.0]|[0.82943424628157...|       0.0|\n",
            "|        0|(9,[0,1,2,3],[7.0...|[3012934.0,619583.0]|[0.82943424628157...|       0.0|\n",
            "|        0|(9,[0,1,2,3],[7.0...|[3012934.0,619583.0]|[0.82943424628157...|       0.0|\n",
            "|        0|(9,[0,1,2,3],[7.0...|[3012934.0,619583.0]|[0.82943424628157...|       0.0|\n",
            "|        0|(9,[0,1,2,3],[7.0...|[3012934.0,619583.0]|[0.82943424628157...|       0.0|\n",
            "|        0|(9,[0,1,2,3],[9.0...|[3012934.0,619583.0]|[0.82943424628157...|       0.0|\n",
            "|        0|(9,[0,1,2,3],[9.0...|[3012934.0,619583.0]|[0.82943424628157...|       0.0|\n",
            "+---------+--------------------+--------------------+--------------------+----------+\n",
            "only showing top 20 rows\n",
            "\n"
          ]
        }
      ],
      "source": [
        "prediction = model.transform(testData)\n",
        "prediction.show()"
      ]
    },
    {
      "cell_type": "code",
      "execution_count": null,
      "metadata": {
        "colab": {
          "base_uri": "https://localhost:8080/"
        },
        "id": "fBH8TITm6cIR",
        "outputId": "86fa7c6d-2b6b-4c6f-f964-e32bd1927964"
      },
      "outputs": [
        {
          "name": "stdout",
          "output_type": "stream",
          "text": [
            "Accuracy For the Second Classification model:  0.811015205832419\n",
            "Test Error For the Second Classification model = 0.188985\n"
          ]
        }
      ],
      "source": [
        "evaluator = MulticlassClassificationEvaluator(labelCol=\"DEP_DEL15\",predictionCol=\"prediction\",metricName=\"accuracy\")\n",
        "accuracy = evaluator.evaluate(prediction)\n",
        "print(\"Accuracy For the Second Classification model: \",accuracy)\n",
        "print(\"Test Error For the Second Classification model = %g\" %(1.0 - accuracy ))"
      ]
    }
  ],
  "metadata": {
    "colab": {
      "provenance": [],
      "authorship_tag": "ABX9TyNcSZJgBh+DDuiMotH72Bum"
    },
    "kernelspec": {
      "display_name": "Python 3",
      "name": "python3"
    },
    "language_info": {
      "name": "python"
    }
  },
  "nbformat": 4,
  "nbformat_minor": 0
}