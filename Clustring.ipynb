{
  "nbformat": 4,
  "nbformat_minor": 0,
  "metadata": {
    "colab": {
      "provenance": [],
      "authorship_tag": "ABX9TyMsxXxeXwNjctP6WhF4oJcn"
    },
    "kernelspec": {
      "name": "python3",
      "display_name": "Python 3"
    },
    "language_info": {
      "name": "python"
    }
  },
  "cells": [
    {
      "cell_type": "code",
      "source": [
        "!pip install pyspark\n",
        "from pyspark.sql import *\n",
        "\n",
        "spark= SparkSession.builder\\\n",
        ".master(\"local\")\\\n",
        ".appName(\"Colab\")\\\n",
        ".config('spark.ui.port', '4050')\\\n",
        ".getOrCreate()\n"
      ],
      "metadata": {
        "colab": {
          "base_uri": "https://localhost:8080/"
        },
        "id": "XEeOiQSRX6Iv",
        "outputId": "c6ee6f20-fa5a-4e52-cb65-2b7ad7021173"
      },
      "execution_count": null,
      "outputs": [
        {
          "output_type": "stream",
          "name": "stdout",
          "text": [
            "Looking in indexes: https://pypi.org/simple, https://us-python.pkg.dev/colab-wheels/public/simple/\n",
            "Collecting pyspark\n",
            "  Downloading pyspark-3.3.1.tar.gz (281.4 MB)\n",
            "\u001b[K     |████████████████████████████████| 281.4 MB 28 kB/s \n",
            "\u001b[?25hCollecting py4j==0.10.9.5\n",
            "  Downloading py4j-0.10.9.5-py2.py3-none-any.whl (199 kB)\n",
            "\u001b[K     |████████████████████████████████| 199 kB 59.7 MB/s \n",
            "\u001b[?25hBuilding wheels for collected packages: pyspark\n",
            "  Building wheel for pyspark (setup.py) ... \u001b[?25l\u001b[?25hdone\n",
            "  Created wheel for pyspark: filename=pyspark-3.3.1-py2.py3-none-any.whl size=281845512 sha256=fc6e4782e8f3f5be8751470e67de053ce04252960183e16bd30fddde36c6c18e\n",
            "  Stored in directory: /root/.cache/pip/wheels/43/dc/11/ec201cd671da62fa9c5cc77078235e40722170ceba231d7598\n",
            "Successfully built pyspark\n",
            "Installing collected packages: py4j, pyspark\n",
            "Successfully installed py4j-0.10.9.5 pyspark-3.3.1\n"
          ]
        }
      ]
    },
    {
      "cell_type": "code",
      "source": [
        "pip install opendatasets"
      ],
      "metadata": {
        "colab": {
          "base_uri": "https://localhost:8080/"
        },
        "id": "PG-XEfkUNhqn",
        "outputId": "7db1fc2a-b36d-41f6-976b-17b09c72bcfa"
      },
      "execution_count": null,
      "outputs": [
        {
          "output_type": "stream",
          "name": "stdout",
          "text": [
            "Looking in indexes: https://pypi.org/simple, https://us-python.pkg.dev/colab-wheels/public/simple/\n",
            "Collecting opendatasets\n",
            "  Downloading opendatasets-0.1.22-py3-none-any.whl (15 kB)\n",
            "Requirement already satisfied: click in /usr/local/lib/python3.8/dist-packages (from opendatasets) (7.1.2)\n",
            "Requirement already satisfied: kaggle in /usr/local/lib/python3.8/dist-packages (from opendatasets) (1.5.12)\n",
            "Requirement already satisfied: tqdm in /usr/local/lib/python3.8/dist-packages (from opendatasets) (4.64.1)\n",
            "Requirement already satisfied: python-slugify in /usr/local/lib/python3.8/dist-packages (from kaggle->opendatasets) (7.0.0)\n",
            "Requirement already satisfied: python-dateutil in /usr/local/lib/python3.8/dist-packages (from kaggle->opendatasets) (2.8.2)\n",
            "Requirement already satisfied: certifi in /usr/local/lib/python3.8/dist-packages (from kaggle->opendatasets) (2022.9.24)\n",
            "Requirement already satisfied: urllib3 in /usr/local/lib/python3.8/dist-packages (from kaggle->opendatasets) (1.24.3)\n",
            "Requirement already satisfied: requests in /usr/local/lib/python3.8/dist-packages (from kaggle->opendatasets) (2.23.0)\n",
            "Requirement already satisfied: six>=1.10 in /usr/local/lib/python3.8/dist-packages (from kaggle->opendatasets) (1.15.0)\n",
            "Requirement already satisfied: text-unidecode>=1.3 in /usr/local/lib/python3.8/dist-packages (from python-slugify->kaggle->opendatasets) (1.3)\n",
            "Requirement already satisfied: idna<3,>=2.5 in /usr/local/lib/python3.8/dist-packages (from requests->kaggle->opendatasets) (2.10)\n",
            "Requirement already satisfied: chardet<4,>=3.0.2 in /usr/local/lib/python3.8/dist-packages (from requests->kaggle->opendatasets) (3.0.4)\n",
            "Installing collected packages: opendatasets\n",
            "Successfully installed opendatasets-0.1.22\n"
          ]
        }
      ]
    },
    {
      "cell_type": "code",
      "source": [
        "pip install pandas"
      ],
      "metadata": {
        "colab": {
          "base_uri": "https://localhost:8080/"
        },
        "id": "g0nxUijZNjIB",
        "outputId": "ad9c073d-33f9-4556-fc97-d3a3d3a60ef3"
      },
      "execution_count": null,
      "outputs": [
        {
          "output_type": "stream",
          "name": "stdout",
          "text": [
            "Looking in indexes: https://pypi.org/simple, https://us-python.pkg.dev/colab-wheels/public/simple/\n",
            "Requirement already satisfied: pandas in /usr/local/lib/python3.8/dist-packages (1.3.5)\n",
            "Requirement already satisfied: python-dateutil>=2.7.3 in /usr/local/lib/python3.8/dist-packages (from pandas) (2.8.2)\n",
            "Requirement already satisfied: numpy>=1.17.3 in /usr/local/lib/python3.8/dist-packages (from pandas) (1.21.6)\n",
            "Requirement already satisfied: pytz>=2017.3 in /usr/local/lib/python3.8/dist-packages (from pandas) (2022.6)\n",
            "Requirement already satisfied: six>=1.5 in /usr/local/lib/python3.8/dist-packages (from python-dateutil>=2.7.3->pandas) (1.15.0)\n"
          ]
        }
      ]
    },
    {
      "cell_type": "code",
      "source": [
        "from pyspark.sql.types import IntegerType\n",
        "from pyspark.sql.functions import col\n",
        "from sklearn.cluster import KMeans\n",
        "import pandas as pd\n",
        "from sklearn.preprocessing import MinMaxScaler\n",
        "from matplotlib import pyplot as plt\n",
        "%matplotlib inline\n",
        "from  pyspark import pandas"
      ],
      "metadata": {
        "colab": {
          "base_uri": "https://localhost:8080/"
        },
        "id": "qG5QcavLONyG",
        "outputId": "d2d53b21-5b22-4df6-8022-c0c71a778068"
      },
      "execution_count": null,
      "outputs": [
        {
          "output_type": "stream",
          "name": "stderr",
          "text": [
            "WARNING:root:'PYARROW_IGNORE_TIMEZONE' environment variable was not set. It is required to set this environment variable to '1' in both driver and executor sides if you use pyarrow>=2.0.0. pandas-on-Spark will set it for you but it does not work if there is a Spark context already launched.\n"
          ]
        }
      ]
    },
    {
      "cell_type": "code",
      "source": [
        "import pandas as pd\n",
        "import opendatasets as od\n",
        "od.download(\n",
        "    \"https://www.kaggle.com/datasets/robikscube/flight-delay-dataset-20182022?select=Combined_Flights_2022.csv\")"
      ],
      "metadata": {
        "colab": {
          "base_uri": "https://localhost:8080/"
        },
        "id": "b3uoNMHSNmLG",
        "outputId": "c1910e17-2303-4f21-c303-7e34ef1ffeb5"
      },
      "execution_count": null,
      "outputs": [
        {
          "output_type": "stream",
          "name": "stdout",
          "text": [
            "Please provide your Kaggle credentials to download this dataset. Learn more: http://bit.ly/kaggle-creds\n",
            "Your Kaggle username: alialnujaidi\n",
            "Your Kaggle Key: ··········\n",
            "Downloading flight-delay-dataset-20182022.zip to ./flight-delay-dataset-20182022\n"
          ]
        },
        {
          "output_type": "stream",
          "name": "stderr",
          "text": [
            "100%|██████████| 3.73G/3.73G [00:23<00:00, 167MB/s]\n"
          ]
        },
        {
          "output_type": "stream",
          "name": "stdout",
          "text": [
            "\n"
          ]
        }
      ]
    },
    {
      "cell_type": "code",
      "source": [
        "df = spark.read.option(\"header\",True) \\\n",
        "     .csv(\"flight-delay-dataset-20182022/Combined_Flights_2022.csv\")"
      ],
      "metadata": {
        "id": "HRRoKcuJNsIT"
      },
      "execution_count": null,
      "outputs": []
    },
    {
      "cell_type": "code",
      "source": [
        "df = df.select(\"AirTime\",\"Distance\",\"DepTime\")"
      ],
      "metadata": {
        "id": "K_RQGd0iN4rx"
      },
      "execution_count": null,
      "outputs": []
    },
    {
      "cell_type": "code",
      "source": [
        "df.show(5)"
      ],
      "metadata": {
        "colab": {
          "base_uri": "https://localhost:8080/"
        },
        "id": "zveKw33r9ZYT",
        "outputId": "025cd63f-096a-4b17-bb09-4b056cae7b3f"
      },
      "execution_count": null,
      "outputs": [
        {
          "output_type": "stream",
          "name": "stdout",
          "text": [
            "+-------+--------+-------+\n",
            "|AirTime|Distance|DepTime|\n",
            "+-------+--------+-------+\n",
            "|   40.0|   212.0| 1123.0|\n",
            "|   55.0|   295.0|  728.0|\n",
            "|   47.0|   251.0| 1514.0|\n",
            "|   57.0|   376.0| 1430.0|\n",
            "|   49.0|   251.0| 1135.0|\n",
            "+-------+--------+-------+\n",
            "only showing top 5 rows\n",
            "\n"
          ]
        }
      ]
    },
    {
      "cell_type": "code",
      "source": [
        "df = df.withColumn(\"AirTime\",col(\"AirTime\").cast(\"int\")).dropna(\"any\")\n",
        "df = df.withColumn(\"Distance\",col(\"Distance\").cast(\"int\")).dropna(\"any\")\n",
        "df = df.withColumn(\"DepTime\",col(\"DepTime\").cast(\"int\")).dropna(\"any\")"
      ],
      "metadata": {
        "id": "vRmoB8csOT_w"
      },
      "execution_count": null,
      "outputs": []
    },
    {
      "cell_type": "code",
      "source": [
        "df.describe().show()"
      ],
      "metadata": {
        "colab": {
          "base_uri": "https://localhost:8080/"
        },
        "id": "2-8NB9Wb-THY",
        "outputId": "76478e8b-4d5d-4e4c-deb5-c0acc459d912"
      },
      "execution_count": null,
      "outputs": [
        {
          "output_type": "stream",
          "name": "stdout",
          "text": [
            "+-------+------------------+-----------------+-----------------+\n",
            "|summary|           AirTime|         Distance|          DepTime|\n",
            "+-------+------------------+-----------------+-----------------+\n",
            "|  count|           3944916|          3944916|          3944916|\n",
            "|   mean|111.00754870319165|798.8928636249796|1334.120380763494|\n",
            "| stddev| 69.96245895307061|593.1635201368039|505.7184102507513|\n",
            "|    min|                 8|               31|                1|\n",
            "|    max|               727|             5095|             2400|\n",
            "+-------+------------------+-----------------+-----------------+\n",
            "\n"
          ]
        }
      ]
    },
    {
      "cell_type": "code",
      "source": [
        "df = df.withColumn(\"AirTime\", df.AirTime/727)\n",
        "df = df.withColumn(\"Distance\", df.Distance/5095)\n",
        "df = df.withColumn(\"DepTime\", df.DepTime/2400)"
      ],
      "metadata": {
        "id": "Kq2w13zTOkri"
      },
      "execution_count": null,
      "outputs": []
    },
    {
      "cell_type": "code",
      "source": [
        "df.describe().show()"
      ],
      "metadata": {
        "colab": {
          "base_uri": "https://localhost:8080/"
        },
        "id": "Tz5zKQ9j-rCX",
        "outputId": "406ee764-9561-4e80-c312-66ce8b475d52"
      },
      "execution_count": null,
      "outputs": [
        {
          "output_type": "stream",
          "name": "stdout",
          "text": [
            "+-------+--------------------+--------------------+--------------------+\n",
            "|summary|             AirTime|            Distance|             DepTime|\n",
            "+-------+--------------------+--------------------+--------------------+\n",
            "|  count|             3944916|             3944916|             3944916|\n",
            "|   mean| 0.15269263920660694| 0.15679938442095578|  0.5558834919849465|\n",
            "| stddev| 0.09623446898634216|  0.1164207105273417| 0.21071600427114648|\n",
            "|    min|0.011004126547455296|0.006084396467124632|4.166666666666667E-4|\n",
            "|    max|                 1.0|                 1.0|                 1.0|\n",
            "+-------+--------------------+--------------------+--------------------+\n",
            "\n"
          ]
        }
      ]
    },
    {
      "cell_type": "code",
      "source": [
        "from pyspark.ml.linalg import Vector\n",
        "from pyspark.ml.feature import VectorAssembler\n",
        "input_cols = ['AirTime','Distance','DepTime']\n",
        "vec_assembler = VectorAssembler(inputCols=input_cols, outputCol=\"features\")\n",
        "df = vec_assembler.transform(df)"
      ],
      "metadata": {
        "id": "F6FpHC8mPfyL"
      },
      "execution_count": null,
      "outputs": []
    },
    {
      "cell_type": "code",
      "source": [
        "from pyspark.ml.clustering import KMeans\n",
        "from pyspark.ml.evaluation import ClusteringEvaluator"
      ],
      "metadata": {
        "id": "OU1CZOnQPAlt"
      },
      "execution_count": null,
      "outputs": []
    },
    {
      "cell_type": "code",
      "source": [
        "kmeans = KMeans().setK(4).setSeed(1)\n",
        "model = kmeans.fit(df)"
      ],
      "metadata": {
        "id": "ukocqFP0PFVu"
      },
      "execution_count": null,
      "outputs": []
    },
    {
      "cell_type": "code",
      "source": [
        "predictions = model.transform(df)"
      ],
      "metadata": {
        "id": "0UG6ZpVQQitx"
      },
      "execution_count": null,
      "outputs": []
    },
    {
      "cell_type": "code",
      "source": [
        "predictions.show()"
      ],
      "metadata": {
        "colab": {
          "base_uri": "https://localhost:8080/"
        },
        "id": "RoP08jU3SQZG",
        "outputId": "6de41400-15d1-494b-ae2e-4e58e0ab5782"
      },
      "execution_count": null,
      "outputs": [
        {
          "output_type": "stream",
          "name": "stdout",
          "text": [
            "+--------------------+--------------------+-------------------+--------------------+----------+\n",
            "|             AirTime|            Distance|            DepTime|            features|prediction|\n",
            "+--------------------+--------------------+-------------------+--------------------+----------+\n",
            "|0.055020632737276476|0.041609421000981354|0.46791666666666665|[0.05502063273727...|         1|\n",
            "| 0.07565337001375516| 0.05789990186457311|0.30333333333333334|[0.07565337001375...|         3|\n",
            "| 0.06464924346629987|0.049263984298331696| 0.6308333333333334|[0.06464924346629...|         1|\n",
            "| 0.07840440165061899| 0.07379784102060843| 0.5958333333333333|[0.07840440165061...|         1|\n",
            "| 0.06740027510316368|0.049263984298331696|0.47291666666666665|[0.06740027510316...|         1|\n",
            "| 0.10591471801925723| 0.10618253189401373|0.39666666666666667|[0.10591471801925...|         3|\n",
            "| 0.03576341127922971| 0.02492639842983317|               0.89|[0.03576341127922...|         0|\n",
            "| 0.18707015130674004| 0.15132482826300295|0.46541666666666665|[0.18707015130674...|         1|\n",
            "| 0.05089408528198074| 0.03729146221786065| 0.5891666666666666|[0.05089408528198...|         1|\n",
            "| 0.08253094910591471| 0.08380765456329735|0.39458333333333334|[0.08253094910591...|         3|\n",
            "|0.061898211829436035|0.045142296368989206| 0.6441666666666667|[0.06189821182943...|         1|\n",
            "|  0.1155433287482806| 0.08380765456329735|0.29333333333333333|[0.11554332874828...|         3|\n",
            "| 0.09491059147180192|  0.0830225711481845| 0.5658333333333333|[0.09491059147180...|         1|\n",
            "|  0.0811554332874828|  0.0775269872423945|               0.42|[0.08115543328748...|         1|\n",
            "| 0.14167812929848694| 0.11030421982335623| 0.5229166666666667|[0.14167812929848...|         1|\n",
            "| 0.05364511691884457|0.041609421000981354| 0.3904166666666667|[0.05364511691884...|         3|\n",
            "|0.061898211829436035|0.049263984298331696| 0.5508333333333333|[0.06189821182943...|         1|\n",
            "|0.061898211829436035|0.059470068694798824| 0.4633333333333333|[0.06189821182943...|         1|\n",
            "| 0.16368638239339753| 0.15544651619234542|               0.75|[0.16368638239339...|         0|\n",
            "| 0.07427785419532325| 0.08380765456329735| 0.8141666666666667|[0.07427785419532...|         0|\n",
            "+--------------------+--------------------+-------------------+--------------------+----------+\n",
            "only showing top 20 rows\n",
            "\n"
          ]
        }
      ]
    },
    {
      "cell_type": "code",
      "source": [
        "evaluator = ClusteringEvaluator()"
      ],
      "metadata": {
        "id": "U8XjKcLSQpR8"
      },
      "execution_count": null,
      "outputs": []
    },
    {
      "cell_type": "code",
      "source": [
        "silhouette = evaluator.evaluate(predictions)\n",
        "print(\"Silhouette with squared euclidean distance = \" + str(silhouette))"
      ],
      "metadata": {
        "colab": {
          "base_uri": "https://localhost:8080/"
        },
        "id": "PfW7BymuQrVT",
        "outputId": "b6ef7e0a-bc4f-45ce-f5d6-0821df619713"
      },
      "execution_count": null,
      "outputs": [
        {
          "output_type": "stream",
          "name": "stdout",
          "text": [
            "Silhouette with squared euclidean distance = 0.5307547787592565\n"
          ]
        }
      ]
    },
    {
      "cell_type": "code",
      "source": [
        "centers = model.clusterCenters()\n",
        "print(\"Cluster Centers: \")\n",
        "for center in centers:\n",
        "    print(center)"
      ],
      "metadata": {
        "colab": {
          "base_uri": "https://localhost:8080/"
        },
        "id": "8LsRZ7adQtH4",
        "outputId": "d723a610-b871-4b7b-d93e-104a6178fdba"
      },
      "execution_count": null,
      "outputs": [
        {
          "output_type": "stream",
          "name": "stdout",
          "text": [
            "Cluster Centers: \n",
            "[0.12571497 0.12432134 0.79310947]\n",
            "[0.11827202 0.11452456 0.53378847]\n",
            "[0.35967546 0.40935606 0.5822787 ]\n",
            "[0.14107441 0.14243007 0.30415446]\n"
          ]
        }
      ]
    },
    {
      "cell_type": "code",
      "source": [
        "import matplotlib.pyplot as plt\n",
        "cost =[]\n",
        "for i in range(2, 11):\n",
        "    kmeans = KMeans().setK(i).setSeed(1)\n",
        "    model = kmeans.fit(df)\n",
        "    predictions = model.transform(df)\n",
        "    silhouette = evaluator.evaluate(predictions)\n",
        "    cost.append(silhouette)  \n",
        " \n",
        "\n",
        "plt.plot(range(2, 11), cost, color ='g', linewidth ='3')\n",
        "plt.xlabel(\"Value of K\")\n",
        "plt.ylabel(\"Squared Error\")\n",
        "plt.show() \n",
        " \n"
      ],
      "metadata": {
        "colab": {
          "base_uri": "https://localhost:8080/",
          "height": 279
        },
        "id": "m27aI8wdTZ_j",
        "outputId": "018a106f-c55c-41bd-99a4-2befcfcef033"
      },
      "execution_count": null,
      "outputs": [
        {
          "output_type": "display_data",
          "data": {
            "text/plain": [
              "<Figure size 432x288 with 1 Axes>"
            ],
            "image/png": "[encoded data removed]"
          },
          "metadata": {
            "needs_background": "light"
          }
        }
      ]
    }
  ]
}